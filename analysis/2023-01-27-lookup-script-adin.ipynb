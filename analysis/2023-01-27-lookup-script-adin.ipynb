{
 "cells": [
  {
   "cell_type": "code",
   "execution_count": 2,
   "metadata": {
    "collapsed": true
   },
   "outputs": [],
   "source": [
    "import re\n",
    "import csv\n",
    "import os\n",
    "import io\n",
    "import pickle\n",
    "import math\n",
    "import random\n",
    "import sqlalchemy as sa\n",
    "import seaborn as sns\n",
    "import numpy as np\n",
    "import scipy as sp\n",
    "import matplotlib as mpl\n",
    "import matplotlib.pyplot as plt\n",
    "import matplotlib.dates as mdates\n",
    "import matplotlib.ticker as mtick\n",
    "import pandas as pd\n",
    "import hashlib as hl\n",
    "import random\n",
    "import multihash as mh\n",
    "from dataclasses import dataclass\n",
    "from datetime import datetime\n",
    "from typing import Dict, List\n",
    "from dataclasses import dataclass, field\n",
    "from typing import Dict, TypeVar, List, Callable, Optional, Generic\n",
    "from binary_trie import Trie, bytes_to_bitstring, bitstring_to_bytes, int_to_bitstring, bitstring_to_int\n",
    "\n",
    "sns.set_theme()"
   ]
  },
  {
   "cell_type": "code",
   "execution_count": 3,
   "outputs": [],
   "source": [
    "def cdf(series: pd.Series) -> pd.DataFrame:\n",
    "    \"\"\" calculates the cumulative distribution function of the given series\"\"\"\n",
    "    return pd.DataFrame.from_dict({\n",
    "        series.name: np.append(series.sort_values(), series.max()),\n",
    "        \"cdf\": np.linspace(0, 1, len(series) + 1)\n",
    "    })"
   ],
   "metadata": {
    "collapsed": false
   }
  },
  {
   "cell_type": "code",
   "execution_count": 7,
   "outputs": [],
   "source": [
    "times = []\n",
    "with open('find-times.csv') as csvfile:\n",
    "     rows = csv.reader(csvfile, delimiter=',')\n",
    "     for row in rows:\n",
    "         times += [float(row[1])]"
   ],
   "metadata": {
    "collapsed": false
   }
  },
  {
   "cell_type": "code",
   "execution_count": null,
   "outputs": [],
   "source": [
    "fig, ax = plt.subplots(figsize=[15, 7])\n",
    "\n",
    "dat = cdf(pd.Series(times, name=\"durations\"))\n",
    "ax.plot(dat[\"durations\"], dat[\"cdf\"])"
   ],
   "metadata": {
    "collapsed": false
   }
  }
 ],
 "metadata": {
  "kernelspec": {
   "display_name": "Python 3",
   "language": "python",
   "name": "python3"
  },
  "language_info": {
   "codemirror_mode": {
    "name": "ipython",
    "version": 2
   },
   "file_extension": ".py",
   "mimetype": "text/x-python",
   "name": "python",
   "nbconvert_exporter": "python",
   "pygments_lexer": "ipython2",
   "version": "2.7.6"
  }
 },
 "nbformat": 4,
 "nbformat_minor": 0
}
